{
 "cells": [
  {
   "cell_type": "code",
   "execution_count": 1,
   "metadata": {},
   "outputs": [],
   "source": [
    "protein_sequence = 'MDDDIAALVVDNGSGMCKAGFAGDDAPRAVFPSIVGRPRHQGVMVGMGQKDSYVGDEAQSKRGILTLKYPIEHGIVTNWDDMEKIWHHTFYNELRVAPEEHPVLLTEAPLNPKANREKMTQIMFETFNTPAMYVAIQAVLSLYASGRTTGIVMDSGDGVTHTVPIYEGYALPHAILRLDLAGRDLTDYLMKILTERGYSFTTTAEREIVRDIKEKLCYVALDFEQEMATAASSSSLEKSYELPDGQVITIGNERFRCPEALFQPSFLGMESCGIHETTFNSIMKCDVDIRKDLYANTVLSGGTTMYPGIADRMQKEITALAPSTMKIKIIAPPERKYSVWIGGSILASLSTFQQMWISKQEYDESGPSIVHRKCF'\n",
    "nucleus_image = 'images/nucleus.jpg'\n",
    "protein_name = \"Actin, cytoplasmic 1 (Beta-actin) [Cleaved into: Actin, cytoplasmic 1, N-terminally processed]\"\n",
    "device = \"cuda:0\"\n",
    "config_file = 'configs/celle.yaml'\n",
    "ckpt_path = 'logs/2022-09-14T00-40-31_celle/checkpoints/last.ckpt'"
   ]
  },
  {
   "cell_type": "code",
   "execution_count": 3,
   "metadata": {
    "scrolled": false
   },
   "outputs": [
    {
     "name": "stderr",
     "output_type": "stream",
     "text": [
      "/tmp/ipykernel_2720/1527763934.py:24: UserWarning: Trying to register the cmap 'rainbow_alpha' which already exists.\n",
      "  plt.register_cmap(cmap=map_object)\n"
     ]
    }
   ],
   "source": [
    "#run once\n",
    "import os\n",
    "\n",
    "if 'notebooks' in os.getcwd():\n",
    "    os.chdir('..')\n",
    "\n",
    "import torch\n",
    "import numpy as np\n",
    "from matplotlib import pyplot as plt\n",
    "from matplotlib import cm\n",
    "from matplotlib.colors import LinearSegmentedColormap\n",
    "import torchvision\n",
    "\n",
    "from einops import rearrange\n",
    "from omegaconf import OmegaConf\n",
    "\n",
    "from celle_main import instantiate_from_config\n",
    "from dataloader import OpenCellLoader\n",
    "\n",
    "# color map for plot\n",
    "color_array = plt.get_cmap('gist_rainbow')(range(256))\n",
    "color_array[:,-1] = np.linspace(1.0,0.0,256)\n",
    "map_object = LinearSegmentedColormap.from_list(name='rainbow_alpha',colors=color_array[::-1])\n",
    "plt.register_cmap(cmap=map_object)\n",
    "\n",
    "device = torch.device(device)\n",
    "\n",
    "# #load model\n",
    "configs = OmegaConf.load(config_file);\n",
    "model = instantiate_from_config(configs.model).to(device);\n",
    "if ckpt_path:\n",
    "    t = torch.load(ckpt_path,map_location = 'cpu')['state_dict'];\n",
    "    for key in list(t.keys()):\n",
    "        t[key.replace('celle.','')] = t.pop(key);\n",
    "model.celle.load_state_dict(t,strict=False);\n",
    "model = model.celle\n",
    "model = model.to(device)\n",
    "model = model.eval()\n",
    "\n",
    "# get some params\n",
    "crop_size = configs.data.params.crop_size\n",
    "sequence_mode = configs.data.params.sequence_mode\n",
    "vocab = configs.data.params.vocab\n",
    "threshold = configs.data.params.threshold\n",
    "text_seq_len = configs.data.params.text_seq_len\n",
    "\n",
    "# convert string to numbered index\n",
    "dataset = OpenCellLoader(data_csv=configs.data.params.data_csv,crop_size=crop_size, sequence_mode=sequence_mode, vocab=vocab, threshold=threshold, text_seq_len=text_seq_len)"
   ]
  },
  {
   "cell_type": "code",
   "execution_count": 4,
   "metadata": {},
   "outputs": [
    {
     "name": "stderr",
     "output_type": "stream",
     "text": [
      "/app/Protein-Localization-Transformer/dataloader.py:270: UserWarning: Creating a tensor from a list of numpy.ndarrays is extremely slow. Please consider converting the list to a single numpy.ndarray with numpy.array() before converting to a tensor. (Triggered internally at  ../torch/csrc/utils/tensor_new.cpp:204.)\n",
      "  protein_vector = torch.tensor(\n"
     ]
    },
    {
     "ename": "NameError",
     "evalue": "name 'model' is not defined",
     "output_type": "error",
     "traceback": [
      "\u001b[0;31m---------------------------------------------------------------------------\u001b[0m",
      "\u001b[0;31mNameError\u001b[0m                                 Traceback (most recent call last)",
      "\u001b[0;32m/tmp/ipykernel_2720/1189756163.py\u001b[0m in \u001b[0;36m<module>\u001b[0;34m\u001b[0m\n\u001b[1;32m      9\u001b[0m \u001b[0;31m# generate image\u001b[0m\u001b[0;34m\u001b[0m\u001b[0;34m\u001b[0m\u001b[0;34m\u001b[0m\u001b[0m\n\u001b[1;32m     10\u001b[0m \u001b[0;32mwith\u001b[0m \u001b[0mtorch\u001b[0m\u001b[0;34m.\u001b[0m\u001b[0mno_grad\u001b[0m\u001b[0;34m(\u001b[0m\u001b[0;34m)\u001b[0m\u001b[0;34m:\u001b[0m\u001b[0;34m\u001b[0m\u001b[0;34m\u001b[0m\u001b[0m\n\u001b[0;32m---> 11\u001b[0;31m     \u001b[0moutput\u001b[0m \u001b[0;34m=\u001b[0m \u001b[0mmodel\u001b[0m\u001b[0;34m.\u001b[0m\u001b[0mgenerate_images\u001b[0m\u001b[0;34m(\u001b[0m\u001b[0mtext\u001b[0m\u001b[0;34m=\u001b[0m\u001b[0mprotein_sequence\u001b[0m\u001b[0;34m.\u001b[0m\u001b[0mto\u001b[0m\u001b[0;34m(\u001b[0m\u001b[0mdevice\u001b[0m\u001b[0;34m)\u001b[0m\u001b[0;34m,\u001b[0m \u001b[0mcondition\u001b[0m \u001b[0;34m=\u001b[0m \u001b[0mnucleus\u001b[0m\u001b[0;34m.\u001b[0m\u001b[0mto\u001b[0m\u001b[0;34m(\u001b[0m\u001b[0mdevice\u001b[0m\u001b[0;34m)\u001b[0m\u001b[0;34m,\u001b[0m \u001b[0mreturn_logits\u001b[0m\u001b[0;34m=\u001b[0m\u001b[0;32mTrue\u001b[0m\u001b[0;34m,\u001b[0m \u001b[0muse_cache\u001b[0m\u001b[0;34m=\u001b[0m\u001b[0;32mTrue\u001b[0m\u001b[0;34m,\u001b[0m \u001b[0mprogress\u001b[0m\u001b[0;34m=\u001b[0m\u001b[0;32mTrue\u001b[0m\u001b[0;34m)\u001b[0m\u001b[0;34m\u001b[0m\u001b[0;34m\u001b[0m\u001b[0m\n\u001b[0m\u001b[1;32m     12\u001b[0m \u001b[0;34m\u001b[0m\u001b[0m\n\u001b[1;32m     13\u001b[0m     \u001b[0mlogits\u001b[0m \u001b[0;34m=\u001b[0m \u001b[0moutput\u001b[0m\u001b[0;34m[\u001b[0m\u001b[0;34m-\u001b[0m\u001b[0;36m1\u001b[0m\u001b[0;34m]\u001b[0m\u001b[0;34m[\u001b[0m\u001b[0;34m:\u001b[0m\u001b[0;34m,\u001b[0m\u001b[0;34m-\u001b[0m\u001b[0;36m256\u001b[0m\u001b[0;34m:\u001b[0m\u001b[0;34m,\u001b[0m\u001b[0;34m-\u001b[0m\u001b[0;36m512\u001b[0m\u001b[0;34m:\u001b[0m\u001b[0;34m]\u001b[0m\u001b[0;34m\u001b[0m\u001b[0;34m\u001b[0m\u001b[0m\n",
      "\u001b[0;31mNameError\u001b[0m: name 'model' is not defined"
     ]
    }
   ],
   "source": [
    "protein_sequence = ''.join(filter(str.isalpha, protein_sequence)) \n",
    "protein_sequence = dataset.tokenize_seqeuence(protein_sequence)\n",
    "\n",
    "# import nucleus, scale and crop\n",
    "nucleus = torch.tensor(plt.imread(nucleus_image)).float()\n",
    "nucleus /= 255\n",
    "nucleus = torchvision.transforms.RandomCrop(256)(nucleus).unsqueeze(0).unsqueeze(0)\n",
    "\n",
    "# generate image\n",
    "with torch.no_grad():\n",
    "    output = model.generate_images(text=protein_sequence.to(device), condition = nucleus.to(device), return_logits=True, use_cache=True, progress=True)\n",
    "            \n",
    "    logits = output[-1][:,-256:,-512:]\n",
    "    image_tokens = logits @ model.vae.model.quantize.embedding.weight\n",
    "    image_tokens = rearrange(image_patches, \"b (h w) c -> b c h w\", h=int(np.sqrt(256)))\n",
    "    pdf = model.vae.model.decode(image_tokens)\n",
    "    pdf = torch.clip(pdf,0,1)\n",
    "    \n",
    "    plt.figure(dpi=300, clear=True)      \n",
    "    plt.axis('off')\n",
    "    plt.imshow(nucleus[0,0],cmap='gray',interpolation='bicubic')\n",
    "    plt.imshow(pdf.cpu()[0,0],cmap='rainbow_alpha',alpha = .75,interpolation='bicubic')\n",
    "    plt.colorbar(mappable=cm.ScalarMappable(cmap='rainbow_alpha'))\n",
    "    \n",
    "    if protein_name:\n",
    "        plt.title(protein_name)"
   ]
  }
 ],
 "metadata": {
  "interpreter": {
   "hash": "f703332b1593e5986aec844d60dd2796d9b0ddf157e3991cb22534f7b76c19d6"
  },
  "kernelspec": {
   "display_name": "Python 3 (ipykernel)",
   "language": "python",
   "name": "python3"
  },
  "language_info": {
   "codemirror_mode": {
    "name": "ipython",
    "version": 3
   },
   "file_extension": ".py",
   "mimetype": "text/x-python",
   "name": "python",
   "nbconvert_exporter": "python",
   "pygments_lexer": "ipython3",
   "version": "3.8.10"
  }
 },
 "nbformat": 4,
 "nbformat_minor": 2
}
